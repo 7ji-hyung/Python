{
 "cells": [
  {
   "cell_type": "code",
   "execution_count": 20,
   "id": "3a57baa7",
   "metadata": {},
   "outputs": [
    {
     "name": "stdout",
     "output_type": "stream",
     "text": [
      "5\n",
      "R R R U D D\n",
      "3 4\n"
     ]
    }
   ],
   "source": [
    "N = int(input())\n",
    "move = ['L', 'R', 'U', 'D']\n",
    "x, y = 1, 1\n",
    "move_input = list(input().split())\n",
    "\n",
    "for i in move_input:\n",
    "    if i == 'L':\n",
    "        if y == 1:\n",
    "            continue\n",
    "        y -= 1\n",
    "        \n",
    "    elif i == 'R':\n",
    "        if y == N:\n",
    "            continue\n",
    "        y +=1\n",
    "        \n",
    "    elif i == 'U':\n",
    "        if x == 1:\n",
    "            continue\n",
    "        x -= 1\n",
    "        \n",
    "    elif i == 'D':\n",
    "        if x == N:\n",
    "            continue\n",
    "        x += 1\n",
    "\n",
    "print(x,y)"
   ]
  },
  {
   "cell_type": "code",
   "execution_count": 17,
   "id": "f5fd4556",
   "metadata": {},
   "outputs": [
    {
     "name": "stdout",
     "output_type": "stream",
     "text": [
      "5\n",
      "R R R U D D\n",
      "3 4\n"
     ]
    }
   ],
   "source": [
    "# 답얀 예시)\n",
    "\n",
    "# N을 입력받기\n",
    "n = int(input())\n",
    "x, y = 1, 1\n",
    "plans = input().split()\n",
    "\n",
    "# L, R, U, D에 따른 이동 방향\n",
    "dx = [0, 0, -1, 1]\n",
    "dy = [-1, 1, 0, 0]\n",
    "move_types = ['L', 'R', 'U', 'D']\n",
    "\n",
    "# 이동 게획을 하나씩 확인\n",
    "for plan in plans:\n",
    "    # 이동 후 좌표 구하기\n",
    "    for i in range(len(move_types)):\n",
    "        if plan == move_types[i]:\n",
    "            nx = x + dx[i]\n",
    "            ny = y + dy[i]\n",
    "    # 공간을 벗어나는 경우 무시\n",
    "    if nx < 1 or ny < 1 or nx > n or ny > n:\n",
    "        continue\n",
    "    # 이동 수행\n",
    "    x, y = nx, ny\n",
    "\n",
    "print(x, y)"
   ]
  },
  {
   "cell_type": "code",
   "execution_count": null,
   "id": "c222a59f",
   "metadata": {},
   "outputs": [],
   "source": []
  }
 ],
 "metadata": {
  "kernelspec": {
   "display_name": "Python 3 (ipykernel)",
   "language": "python",
   "name": "python3"
  },
  "language_info": {
   "codemirror_mode": {
    "name": "ipython",
    "version": 3
   },
   "file_extension": ".py",
   "mimetype": "text/x-python",
   "name": "python",
   "nbconvert_exporter": "python",
   "pygments_lexer": "ipython3",
   "version": "3.11.2"
  }
 },
 "nbformat": 4,
 "nbformat_minor": 5
}
