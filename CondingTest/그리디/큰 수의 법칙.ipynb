{
 "cells": [
  {
   "cell_type": "markdown",
   "id": "7a1f2dfa",
   "metadata": {},
   "source": [
    "## 큰 수의 법칙  \n",
    "예를 들어 순서대로 2, 4, 5, 4, 6으로 이루어진 배열이 있을 때 M이 8이고, K가 3이라고 가정하자.  \n",
    "이 경우 특정한 인덱스이 수가 연속해서 세 번까지만 더해질 수 있으므로 큰 수의 법칙에 따른 결과는  \n",
    "6 + 6 + 6 + 5 + 6 + 6 + 6 + 5인 46이 된다.  "
   ]
  },
  {
   "cell_type": "markdown",
   "id": "91436793",
   "metadata": {},
   "source": [
    "**입력조건**  \n",
    "- 첫째 줄에 N(2 <= N <= 1,000), M(1 <= M <= 10,000),K(1 <= K <= 10,000)의  \n",
    "자연수가 주어지며, 각 자연수는 공백으로 구분한다.  \n",
    "- 둘째 줄에 N개의 자연수가 주어진다. 각 자연수는 공백으로 구분한다.  \n",
    "단, 각각의 자연수는 1 이상 10,000 이하의 수로 주어진다.  \n",
    "- 입력으로 주어지는 K는 항상 M보다 작거나 같다."
   ]
  },
  {
   "cell_type": "markdown",
   "id": "ab3f5025",
   "metadata": {},
   "source": [
    "**출력조건**  \n",
    "- 첫째 줄에 동빈이는 큰 수의 법칙에 따라 더해진 답을 출력한다."
   ]
  },
  {
   "cell_type": "code",
   "execution_count": 1,
   "id": "0ec653b6",
   "metadata": {},
   "outputs": [
    {
     "name": "stdout",
     "output_type": "stream",
     "text": [
      "5 8 3\n",
      "2 4 5 4 6\n",
      "46\n"
     ]
    }
   ],
   "source": [
    "N, M, K = map(int, input().split())\n",
    "N = list(map(int, input().split()))\n",
    "N.sort(reverse=True)\n",
    "\n",
    "result = 0\n",
    "while(True):\n",
    "    if M == 0:\n",
    "        break\n",
    "    for i in range(K):\n",
    "        if M == 0:\n",
    "            break\n",
    "        result += N[0]\n",
    "        M -= 1\n",
    "    result += N[1]\n",
    "    M-=1\n",
    "print(result)"
   ]
  },
  {
   "cell_type": "code",
   "execution_count": 3,
   "id": "59cc947c",
   "metadata": {},
   "outputs": [
    {
     "name": "stdout",
     "output_type": "stream",
     "text": [
      "5 8 3\n",
      "2 4 5 4 6\n",
      "46\n"
     ]
    }
   ],
   "source": [
    "# 답안 예시 1)\n",
    "\n",
    "# N, M, K를 공백으로 구분하여 입력받기\n",
    "N, M, K = map(int, input().split())\n",
    "# N개의 수를 공백으로 구분하여 입력받기\n",
    "data = list(map(int, input().split()))\n",
    "\n",
    "data.sort() # 입력받은 수들 정렬하기\n",
    "first = data[N-1]\n",
    "second = data[N-2]\n",
    "\n",
    "result = 0\n",
    "\n",
    "while True:\n",
    "    for i in range(K): # 가장 큰 수를 K번 더하기\n",
    "        if M == 0: # m이 0이라면 반복문 탈출\n",
    "            break\n",
    "        result += first\n",
    "        M -= 1 # 더할 때마다 1씩 빼기\n",
    "    if M == 0: # m이 0이라면 반복문 탈출\n",
    "        break\n",
    "    result += second # 두 번째로 큰 수를 한 번 더하기\n",
    "    M -= 1\n",
    "\n",
    "print(result) # 최종 답안 출력"
   ]
  },
  {
   "cell_type": "code",
   "execution_count": 7,
   "id": "93f95169",
   "metadata": {},
   "outputs": [
    {
     "name": "stdout",
     "output_type": "stream",
     "text": [
      "5 8 3\n",
      "2 4 5 4 6\n",
      "46\n"
     ]
    }
   ],
   "source": [
    "# 답안 예시 2)\n",
    "\n",
    "# N, M, K를 공백으로 구분하여 입력받기\n",
    "n, m, k = map(int, input().split())\n",
    "# N개의 수를 공백으로 구분하여 입력받기\n",
    "data = list(map(int, input().split()))\n",
    "\n",
    "data.sort() # 입력받은 수 정렬\n",
    "first = data[n-1] # 가장 큰 수\n",
    "second = data[n-2] #두 번째로 큰 수\n",
    "\n",
    "# 가장 큰 수가 더해지는 횟수 계산\n",
    "count = int(m/(k+1)) * k\n",
    "count += m%(k+1)\n",
    "\n",
    "result = 0\n",
    "result += m%(k+1)\n",
    "\n",
    "result = 0\n",
    "result += count*first # 가장 큰 수 더하기\n",
    "result += (m-count)*second # 두 번째로 큰 수 더하기\n",
    "\n",
    "print(result) # 최종 답안 출력"
   ]
  }
 ],
 "metadata": {
  "kernelspec": {
   "display_name": "Python 3 (ipykernel)",
   "language": "python",
   "name": "python3"
  },
  "language_info": {
   "codemirror_mode": {
    "name": "ipython",
    "version": 3
   },
   "file_extension": ".py",
   "mimetype": "text/x-python",
   "name": "python",
   "nbconvert_exporter": "python",
   "pygments_lexer": "ipython3",
   "version": "3.11.2"
  }
 },
 "nbformat": 4,
 "nbformat_minor": 5
}
